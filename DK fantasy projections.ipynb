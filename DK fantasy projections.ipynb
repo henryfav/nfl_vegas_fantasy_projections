{
 "cells": [
  {
   "cell_type": "code",
   "execution_count": 1,
   "id": "a50386f2",
   "metadata": {},
   "outputs": [],
   "source": [
    "import pandas as pd\n",
    "import requests as req\n",
    "import numpy as np"
   ]
  },
  {
   "cell_type": "markdown",
   "id": "7d3dd176",
   "metadata": {},
   "source": [
    "# Pass Yards"
   ]
  },
  {
   "cell_type": "code",
   "execution_count": 2,
   "id": "2ba6cb14",
   "metadata": {},
   "outputs": [],
   "source": [
    "pyards_url = 'https://sportsbook-us-co.draftkings.com//sites/US-CO-SB/api/v5/eventgroups/88808/categories/782/subcategories/7200?format=json'\n",
    "\n",
    "response = req.get(pyards_url)\n",
    "response.raise_for_status()\n",
    "passyards = response.json()\n",
    "rawdata = passyards['eventGroup']['offerCategories']\n",
    "rawdata = rawdata[4]\n",
    "rawdata = rawdata['offerSubcategoryDescriptors']\n",
    "rawdata = rawdata[0]\n",
    "rawdata = rawdata['offerSubcategory']\n",
    "rawdata = rawdata['offers']\n",
    "rawdata = rawdata[0]"
   ]
  },
  {
   "cell_type": "code",
   "execution_count": 3,
   "id": "0c30e74c",
   "metadata": {},
   "outputs": [],
   "source": [
    "dfQB = pd.DataFrame()\n",
    "pppassyard = 1/25\n",
    "\n",
    "for total in rawdata: \n",
    "    player = ' '.join(total['label'].split(' ')[:2])\n",
    "    dfQB.loc[player, 'Points'] = pppassyard * float(total['outcomes'][0]['label'].split()[1])\n",
    "    dfQB.loc[player,'Has pass yards'] = True\n",
    "    "
   ]
  },
  {
   "cell_type": "markdown",
   "id": "8eb3656f",
   "metadata": {},
   "source": [
    "# Pass Touchdowns"
   ]
  },
  {
   "cell_type": "code",
   "execution_count": 4,
   "id": "91e22a71",
   "metadata": {},
   "outputs": [],
   "source": [
    "ptds_url = 'https://sportsbook-us-co.draftkings.com//sites/US-CO-SB/api/v5/eventgroups/88808/categories/782/subcategories/7199?format=json'\n",
    "\n",
    "\n",
    "response = req.get(ptds_url)\n",
    "response.raise_for_status()\n",
    "passyards = response.json()\n",
    "rawdata = passyards['eventGroup']['offerCategories']\n",
    "rawdata = rawdata[4]\n",
    "rawdata = rawdata['offerSubcategoryDescriptors']\n",
    "rawdata = rawdata[1]\n",
    "rawdata = rawdata['offerSubcategory']\n",
    "rawdata = rawdata['offers']\n",
    "rawdata = rawdata[0]"
   ]
  },
  {
   "cell_type": "code",
   "execution_count": 5,
   "id": "43cd191f",
   "metadata": {},
   "outputs": [],
   "source": [
    "pppasstd = 4\n",
    "\n",
    "for total in rawdata:\n",
    "    player = ' '.join(total['label'].split(' ')[:2])\n",
    "    dfQB.loc[player, 'Points'] += pppasstd * float(total['outcomes'][0]['label'].split()[1])\n",
    "    dfQB.loc[player,'Has pass TDs'] = True"
   ]
  },
  {
   "cell_type": "markdown",
   "id": "16f19d9a",
   "metadata": {},
   "source": [
    "# Some RBs are offered rush + rec yards,\n",
    "# but not for individual categories"
   ]
  },
  {
   "cell_type": "code",
   "execution_count": 6,
   "id": "8f38fc19",
   "metadata": {},
   "outputs": [],
   "source": [
    "rushrecyds_url = 'https://sportsbook-us-co.draftkings.com//sites/US-CO-SB/api/v5/eventgroups/88808/categories/782/subcategories/8415?format=json'\n",
    "\n",
    "response = req.get(rushrecyds_url)\n",
    "response.raise_for_status()\n",
    "passyards = response.json()\n",
    "rawdata = passyards['eventGroup']['offerCategories']\n",
    "rawdata = rawdata[4]\n",
    "rawdata = rawdata['offerSubcategoryDescriptors']\n",
    "rawdata = rawdata[7]\n",
    "rawdata = rawdata['offerSubcategory']\n",
    "rawdata = rawdata['offers']\n",
    "rawdata = rawdata[0]\n"
   ]
  },
  {
   "cell_type": "code",
   "execution_count": 13,
   "id": "4922d24c",
   "metadata": {},
   "outputs": [],
   "source": [
    "ppyd = .1\n",
    "\n",
    "dfRB = pd.DataFrame()\n",
    "\n",
    "for total in rawdata:\n",
    "    player = ' '.join(total['label'].split(' ')[:2])\n",
    "    dfRB.loc[player,'Points'] = ppyd * float(total['outcomes'][0]['label'].split()[1])\n",
    "    dfRB.loc[player, 'Has Rush Yards'] = True\n",
    "    dfRB.loc[player, 'Has Receiving Yards'] = True"
   ]
  },
  {
   "cell_type": "code",
   "execution_count": 14,
   "id": "c63fbf27",
   "metadata": {},
   "outputs": [],
   "source": [
    "combined_rb = list(dfRB.index)"
   ]
  },
  {
   "cell_type": "markdown",
   "id": "6eb61449",
   "metadata": {},
   "source": [
    "# Rush yards"
   ]
  },
  {
   "cell_type": "code",
   "execution_count": 15,
   "id": "c7993865",
   "metadata": {},
   "outputs": [],
   "source": [
    "rushyds_url = 'https://sportsbook-us-co.draftkings.com//sites/US-CO-SB/api/v5/eventgroups/88808/categories/782/subcategories/7277?format=json'\n",
    "\n",
    "response = req.get(rushyds_url)\n",
    "response.raise_for_status()\n",
    "passyards = response.json()\n",
    "rawdata = passyards['eventGroup']['offerCategories']\n",
    "rawdata = rawdata[4]\n",
    "rawdata = rawdata['offerSubcategoryDescriptors']\n",
    "rawdata = rawdata[2]\n",
    "rawdata = rawdata['offerSubcategory']\n",
    "rawdata = rawdata['offers']\n",
    "rawdata = rawdata[0]"
   ]
  },
  {
   "cell_type": "code",
   "execution_count": 16,
   "id": "efc4c210",
   "metadata": {},
   "outputs": [],
   "source": [
    "pprushyd = .1\n",
    "\n",
    "\n",
    "for total in rawdata:\n",
    "    player = ' '.join(total['label'].split(' ')[:2])\n",
    "    if player in dfQB.index:\n",
    "        dfQB.loc[player,'Points'] += pprushyd * float(total['outcomes'][0]['label'].split()[1])\n",
    "        dfQB.loc[player, 'Has Rush Yards'] = True\n",
    "    elif player not in combined_rb:\n",
    "        dfRB.loc[player,'Points'] = pprushyd * float(total['outcomes'][0]['label'].split()[1])\n",
    "        dfRB.loc[player, 'Has Rush Yards'] = True"
   ]
  },
  {
   "cell_type": "markdown",
   "id": "ece40471",
   "metadata": {},
   "source": [
    "# Rush TDs"
   ]
  },
  {
   "cell_type": "code",
   "execution_count": 17,
   "id": "161aeefa",
   "metadata": {},
   "outputs": [],
   "source": [
    "rushtds_url = 'https://sportsbook-us-co.draftkings.com//sites/US-CO-SB/api/v5/eventgroups/88808/categories/782/subcategories/7694?format=json'\n",
    "\n",
    "\n",
    "response = req.get(rushtds_url)\n",
    "response.raise_for_status()\n",
    "passyards = response.json()\n",
    "rawdata = passyards['eventGroup']['offerCategories']\n",
    "rawdata = rawdata[4]\n",
    "rawdata = rawdata['offerSubcategoryDescriptors']\n",
    "rawdata = rawdata[3]\n",
    "rawdata = rawdata['offerSubcategory']\n",
    "rawdata = rawdata['offers']\n",
    "rawdata = rawdata[0]"
   ]
  },
  {
   "cell_type": "code",
   "execution_count": 18,
   "id": "a6885d39",
   "metadata": {},
   "outputs": [],
   "source": [
    "pprushtd = 6\n",
    "\n",
    "for total in rawdata:\n",
    "    player = ' '.join(total['label'].split(' ')[:2])\n",
    "    if player in dfQB.index:\n",
    "        dfQB.loc[player, 'Has Rush TD'] = True\n",
    "        dfQB.loc[player,'Points'] += pprushtd * float(total['outcomes'][0]['label'].split()[1])\n",
    "    elif player in dfRB.index:\n",
    "        dfRB.loc[player, 'Has Rush TD'] = True\n",
    "        dfRB.loc[player,'Points'] += pprushtd * float(total['outcomes'][0]['label'].split()[1])"
   ]
  },
  {
   "cell_type": "markdown",
   "id": "4fc463ee",
   "metadata": {},
   "source": [
    "# Receiving Yards"
   ]
  },
  {
   "cell_type": "code",
   "execution_count": 19,
   "id": "7342e56b",
   "metadata": {},
   "outputs": [],
   "source": [
    "recyds_url = 'https://sportsbook-us-co.draftkings.com//sites/US-CO-SB/api/v5/eventgroups/88808/categories/782/subcategories/7276?format=json'\n",
    "\n",
    "response = req.get(recyds_url)\n",
    "response.raise_for_status()\n",
    "passyards = response.json()\n",
    "rawdata = passyards['eventGroup']['offerCategories']\n",
    "rawdata = rawdata[4]\n",
    "rawdata = rawdata['offerSubcategoryDescriptors']\n",
    "rawdata = rawdata[4]\n",
    "rawdata = rawdata['offerSubcategory']\n",
    "rawdata = rawdata['offers']\n",
    "rawdata = rawdata[0]"
   ]
  },
  {
   "cell_type": "code",
   "execution_count": 20,
   "id": "cf23e110",
   "metadata": {},
   "outputs": [],
   "source": [
    "pprecyd = .1\n",
    "\n",
    "dfWR = pd.DataFrame()\n",
    "\n",
    "for total in rawdata:\n",
    "    player = ' '.join(total['label'].split(' ')[:2])\n",
    "    if ((player in dfRB.index) and (player not in combined_rb)):\n",
    "        dfRB.loc[player, 'Has Receiving Yards'] = True\n",
    "        dfRB.loc[player,'Points'] += pprecyd * float(total['outcomes'][0]['label'].split()[1])    \n",
    "    else:\n",
    "        dfWR.loc[player, 'Has Receiving Yards'] = True\n",
    "        dfWR.loc[player,'Points'] = pprecyd * float(total['outcomes'][0]['label'].split()[1])    "
   ]
  },
  {
   "cell_type": "markdown",
   "id": "1c17d866",
   "metadata": {},
   "source": [
    "# Receiving Touchdowns"
   ]
  },
  {
   "cell_type": "code",
   "execution_count": 21,
   "id": "ab6a650e",
   "metadata": {},
   "outputs": [],
   "source": [
    "rectds_url = 'https://sportsbook-us-co.draftkings.com//sites/US-CO-SB/api/v5/eventgroups/88808/categories/782/subcategories/7239?format=json'\n",
    "\n",
    "response = req.get(rectds_url)\n",
    "response.raise_for_status()\n",
    "passyards = response.json()\n",
    "rawdata = passyards['eventGroup']['offerCategories']\n",
    "rawdata = rawdata[4]\n",
    "rawdata = rawdata['offerSubcategoryDescriptors']\n",
    "rawdata = rawdata[5]\n",
    "rawdata = rawdata['offerSubcategory']\n",
    "rawdata = rawdata['offers']\n",
    "rawdata = rawdata[0]"
   ]
  },
  {
   "cell_type": "code",
   "execution_count": 22,
   "id": "a09446b9",
   "metadata": {},
   "outputs": [],
   "source": [
    "pprectd = 6\n",
    "\n",
    "for total in rawdata:\n",
    "    player = ' '.join(total['label'].split(' ')[:2])\n",
    "    if player in dfRB.index:\n",
    "        dfRB.loc[player,'Points'] += pprectd * float(total['outcomes'][0]['label'].split()[1]) \n",
    "        dfRB.loc[player, 'Has Receiving TD'] = True\n",
    "    elif player in dfWR:\n",
    "        dfWR.loc[player, 'Has Receiving TD'] = True\n",
    "        dfWR.loc[player,'Points'] += pprectd * float(total['outcomes'][0]['label'].split()[1])"
   ]
  },
  {
   "cell_type": "markdown",
   "id": "ce1c5e1c",
   "metadata": {},
   "source": [
    "# Number of Receptions"
   ]
  },
  {
   "cell_type": "code",
   "execution_count": 23,
   "id": "646cd02e",
   "metadata": {},
   "outputs": [],
   "source": [
    "rec_url = 'https://sportsbook-us-co.draftkings.com//sites/US-CO-SB/api/v5/eventgroups/88808/categories/782/subcategories/8165?format=json'\n",
    "\n",
    "response = req.get(rec_url)\n",
    "response.raise_for_status()\n",
    "passyards = response.json()\n",
    "rawdata = passyards['eventGroup']['offerCategories']\n",
    "rawdata = rawdata[4]\n",
    "rawdata = rawdata['offerSubcategoryDescriptors']\n",
    "rawdata = rawdata[6]\n",
    "rawdata = rawdata['offerSubcategory']\n",
    "rawdata = rawdata['offers']\n",
    "rawdata = rawdata[0]"
   ]
  },
  {
   "cell_type": "code",
   "execution_count": 25,
   "id": "a3235217",
   "metadata": {},
   "outputs": [],
   "source": [
    "pprec = .5\n",
    "\n",
    "for total in rawdata:\n",
    "    player = ' '.join(total['label'].split(' ')[:2])\n",
    "    if player in dfRB.index:\n",
    "        dfRB.loc[player,'Points'] += pprec * float(total['outcomes'][0]['label'].split()[1])\n",
    "        dfRB.loc[player, 'Has Reception Count'] = True\n",
    "    elif player in dfWR.index:\n",
    "        dfWR.loc[player, 'Has Reception Count'] = True\n",
    "        dfWR.loc[player,'Points'] += pprec * float(total['outcomes'][0]['label'].split()[1])"
   ]
  },
  {
   "cell_type": "markdown",
   "id": "7d39758a",
   "metadata": {},
   "source": [
    "# Seperate WRs and TEs"
   ]
  },
  {
   "cell_type": "code",
   "execution_count": 27,
   "id": "8ee5756e",
   "metadata": {},
   "outputs": [],
   "source": [
    "TE = ['Travis Kelce','Mark Andrews','Darren Waller','Kyle Pitts',\n",
    "      'George Kittle','Dalton Schultz','T.J. Hockenson','Dallas Goedert',\n",
    "      'Zach Ertz','Dawson Knox','Mike Gesicki']\n",
    "\n",
    "\n",
    "dfTE = dfWR[dfWR.index.isin(TE)]\n",
    "dfWR = dfWR[~dfWR.index.isin(TE)]"
   ]
  },
  {
   "cell_type": "markdown",
   "id": "10651e7c",
   "metadata": {},
   "source": [
    "# Sort by highest scorers"
   ]
  },
  {
   "cell_type": "code",
   "execution_count": 31,
   "id": "a07670ae",
   "metadata": {},
   "outputs": [],
   "source": [
    "dfQB = dfQB.sort_values(by='Points', ascending=False)\n",
    "dfRB = dfRB.sort_values(by='Points', ascending=False)\n",
    "dfWR = dfWR.sort_values(by='Points', ascending=False)\n",
    "dfTE = dfTE.sort_values(by='Points', ascending=False)"
   ]
  },
  {
   "cell_type": "code",
   "execution_count": 39,
   "id": "7baaeda6",
   "metadata": {},
   "outputs": [],
   "source": [
    "dfQB.to_csv('Vegas_QB_Projections.csv')"
   ]
  },
  {
   "cell_type": "code",
   "execution_count": 40,
   "id": "d63ffeb4",
   "metadata": {},
   "outputs": [],
   "source": [
    "dfRB.to_csv('Vegas_RB_Projections.csv')\n",
    "dfWR.to_csv('Vegas_WR_Projections.csv')\n",
    "dfTE.to_csv('Vegas_TE_Projections.csv')"
   ]
  },
  {
   "cell_type": "code",
   "execution_count": null,
   "id": "3f82743d",
   "metadata": {},
   "outputs": [],
   "source": []
  }
 ],
 "metadata": {
  "kernelspec": {
   "display_name": "Python 3 (ipykernel)",
   "language": "python",
   "name": "python3"
  },
  "language_info": {
   "codemirror_mode": {
    "name": "ipython",
    "version": 3
   },
   "file_extension": ".py",
   "mimetype": "text/x-python",
   "name": "python",
   "nbconvert_exporter": "python",
   "pygments_lexer": "ipython3",
   "version": "3.9.12"
  }
 },
 "nbformat": 4,
 "nbformat_minor": 5
}
